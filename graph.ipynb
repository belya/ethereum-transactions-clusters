{
 "cells": [
  {
   "cell_type": "markdown",
   "metadata": {},
   "source": [
    "# Importing a csv file to a neo4j"
   ]
  },
  {
   "cell_type": "code",
   "execution_count": 111,
   "metadata": {},
   "outputs": [],
   "source": [
    "import pandas as pd\n",
    "from neo4j.v1 import GraphDatabase, basic_auth\n",
    "\n",
    "driver = GraphDatabase.driver(\"bolt://localhost:7687\", auth=basic_auth(\"neo4j\", \"blockchain\"))\n",
    "session = driver.session()\n",
    "# ethereum = pd.read_csv(\"./transactions.csv\", chunksize=1000, iterator=True, sep=\";\")\n",
    "ethereum = [pd.read_csv(\"./transactions.csv\", nrows=1000, sep=\";\")]\n",
    "IN_ADDRESS = 'from'\n",
    "OUT_ADDRESS = 'to'\n",
    "AMOUNT = 'value'\n",
    "for chunk in ethereum:\n",
    "    for index, row in chunk.iterrows():\n",
    "        session.run(\"MERGE (address1:Address {address:{address1}})\"\n",
    "                    \"MERGE (address2:Address {address:{address2}})\"\n",
    "                    \"CREATE UNIQUE (address1)-[t:Transactions]->(address2)\"\n",
    "                    \"SET t.amount = coalesce(t.amount, 0) - {amount}\"\n",
    "                    \"SET t.number = coalesce(t.number, 0) - 1\",\n",
    "                    {\"address1\": row[IN_ADDRESS], \"address2\": row[OUT_ADDRESS], 'amount': row[AMOUNT]})\n",
    "session.close()"
   ]
  },
  {
   "cell_type": "markdown",
   "metadata": {},
   "source": [
    "# Clustering a neo4j graph"
   ]
  },
  {
   "cell_type": "markdown",
   "metadata": {
    "collapsed": true
   },
   "source": [
    "```cypher\n",
    "//Find all connected components\n",
    "CALL algo.unionFind('Address', 'Transactions', {write:true, partitionProperty:\"component\"})\n",
    "YIELD nodes, setCount, loadMillis, computeMillis, writeMillis\n",
    "\n",
    "//Create minimum spanning tree\n",
    "//TODO Use connected components only\n",
    "MATCH(a:Address{address: '0x0d4ecc7d750180ebf4a9df728b6669b5bceb5e40'}) \n",
    "CALL algo.mst(a, 'number', {write:true, writeProperty:\"MSTree\"})\n",
    "YIELD loadMillis, computeMillis, writeMillis, weightSum, weightMin, weightMax, relationshipCount\n",
    "RETURN relationshipCount;\n",
    "\n",
    "//Create clusters\n",
    "MATCH ()-[t:MSTree]->() \n",
    "WITH t \n",
    "ORDER BY t.number \n",
    "LIMIT 80 //Number of clusters - number of components - 1\n",
    "DELETE t;\n",
    "\n",
    "//Remove transactions relation\n",
    "MATCH ()-[t:Transactions]->() DELETE t;\n",
    "\n",
    "//Remove addresses\n",
    "MATCH (a:Address) DETACH DELETE a;\n",
    "```"
   ]
  },
  {
   "cell_type": "markdown",
   "metadata": {},
   "source": [
    "### Open session"
   ]
  },
  {
   "cell_type": "code",
   "execution_count": 112,
   "metadata": {
    "collapsed": true
   },
   "outputs": [],
   "source": [
    "driver = GraphDatabase.driver(\"bolt://localhost:7687\", auth=basic_auth(\"neo4j\", \"blockchain\"))\n",
    "session = driver.session()"
   ]
  },
  {
   "cell_type": "markdown",
   "metadata": {},
   "source": [
    "### Find connected components"
   ]
  },
  {
   "cell_type": "code",
   "execution_count": 114,
   "metadata": {},
   "outputs": [
    {
     "data": {
      "text/plain": [
       "<neo4j.v1.result.BoltStatementResult at 0x7f0a21768cc0>"
      ]
     },
     "execution_count": 114,
     "metadata": {},
     "output_type": "execute_result"
    }
   ],
   "source": [
    "session.run(\"CALL algo.unionFind('Address', 'Transactions', {write:true, partitionProperty:'component'}) \"\n",
    "            \"YIELD nodes, setCount, loadMillis, computeMillis, writeMillis \"\n",
    "            \"RETURN nodes;\")"
   ]
  },
  {
   "cell_type": "markdown",
   "metadata": {},
   "source": [
    "### Create minimum spanning tree"
   ]
  },
  {
   "cell_type": "code",
   "execution_count": 107,
   "metadata": {},
   "outputs": [
    {
     "data": {
      "text/plain": [
       "<neo4j.v1.result.BoltStatementResult at 0x7f0a218c5da0>"
      ]
     },
     "execution_count": 107,
     "metadata": {},
     "output_type": "execute_result"
    }
   ],
   "source": [
    "session.run(\"MATCH(a:Address{address: '0x0d4ecc7d750180ebf4a9df728b6669b5bceb5e40'}) \"\n",
    "            \"CALL algo.mst(a, 'number', {write:true, writeProperty:'MSTree'}) \"\n",
    "            \"YIELD loadMillis, computeMillis, writeMillis, weightSum, weightMin, weightMax, relationshipCount \"\n",
    "            \"RETURN relationshipCount;\")"
   ]
  },
  {
   "cell_type": "markdown",
   "metadata": {},
   "source": [
    "### Create clusters"
   ]
  },
  {
   "cell_type": "code",
   "execution_count": 108,
   "metadata": {},
   "outputs": [
    {
     "data": {
      "text/plain": [
       "<neo4j.v1.result.BoltStatementResult at 0x7f0a218c56d8>"
      ]
     },
     "execution_count": 108,
     "metadata": {},
     "output_type": "execute_result"
    }
   ],
   "source": [
    "session.run(\"MATCH ()-[t:MSTree]->() \"\n",
    "            \"WITH t \"\n",
    "            \"ORDER BY t.number DESC \"\n",
    "            \"LIMIT 40 \"\n",
    "            \"DELETE t;\")"
   ]
  },
  {
   "cell_type": "markdown",
   "metadata": {},
   "source": [
    "### Remove MSTree relation"
   ]
  },
  {
   "cell_type": "code",
   "execution_count": 44,
   "metadata": {},
   "outputs": [
    {
     "data": {
      "text/plain": [
       "<neo4j.v1.result.BoltStatementResult at 0x7f0a2180c8d0>"
      ]
     },
     "execution_count": 44,
     "metadata": {},
     "output_type": "execute_result"
    }
   ],
   "source": [
    "session.run(\"MATCH ()-[t:MSTree]->() DELETE t;\")"
   ]
  },
  {
   "cell_type": "markdown",
   "metadata": {},
   "source": [
    "### Remove transactions relation"
   ]
  },
  {
   "cell_type": "code",
   "execution_count": 109,
   "metadata": {},
   "outputs": [
    {
     "data": {
      "text/plain": [
       "<neo4j.v1.result.BoltStatementResult at 0x7f0a218c5e80>"
      ]
     },
     "execution_count": 109,
     "metadata": {},
     "output_type": "execute_result"
    }
   ],
   "source": [
    "session.run(\"MATCH ()-[t:Transactions]->() DELETE t;\")"
   ]
  },
  {
   "cell_type": "markdown",
   "metadata": {},
   "source": [
    "### Remove addresses"
   ]
  },
  {
   "cell_type": "code",
   "execution_count": 110,
   "metadata": {},
   "outputs": [],
   "source": [
    "session.run(\"MATCH (a:Address) DETACH DELETE a;\")\n",
    "session.close()"
   ]
  }
 ],
 "metadata": {
  "kernelspec": {
   "display_name": "Python 3",
   "language": "python",
   "name": "python3"
  },
  "language_info": {
   "codemirror_mode": {
    "name": "ipython",
    "version": 3
   },
   "file_extension": ".py",
   "mimetype": "text/x-python",
   "name": "python",
   "nbconvert_exporter": "python",
   "pygments_lexer": "ipython3",
   "version": "3.5.2"
  }
 },
 "nbformat": 4,
 "nbformat_minor": 2
}
