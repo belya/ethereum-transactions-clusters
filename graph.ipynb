{
 "cells": [
  {
   "cell_type": "markdown",
   "metadata": {},
   "source": [
    "### Importing a csv file to a neo4j"
   ]
  },
  {
   "cell_type": "code",
   "execution_count": 1,
   "metadata": {
    "collapsed": true
   },
   "outputs": [],
   "source": [
    "import pandas as pd\n",
    "from neo4j.v1 import GraphDatabase, basic_auth\n",
    "\n",
    "driver = GraphDatabase.driver(\"bolt://localhost:7687\", auth=basic_auth(\"neo4j\", \"neo4j\"))\n",
    "session = driver.session()\n",
    "ethereum = pd.read_csv(\"./ethereum.csv\", chunksize=10000, iterator=True)\n",
    "for chunk in ethereum:\n",
    "    for index, row in chunk.iterrows():\n",
    "        session.run(\"MERGE (address1:Address {address:{address1}})\"\n",
    "                    \"MERGE (address2:Address {address:{address2}})\"\n",
    "                    \"CREATE (address1)-[to:TO]->(address2)\", \n",
    "                    {\"address1\": row[IN_ADDRESS], \"address2\": row[IN_ADDRESS]})\n",
    "session.close()"
   ]
  }
 ],
 "metadata": {
  "kernelspec": {
   "display_name": "Python 3",
   "language": "python",
   "name": "python3"
  },
  "language_info": {
   "codemirror_mode": {
    "name": "ipython",
    "version": 3
   },
   "file_extension": ".py",
   "mimetype": "text/x-python",
   "name": "python",
   "nbconvert_exporter": "python",
   "pygments_lexer": "ipython3",
   "version": "3.5.2"
  }
 },
 "nbformat": 4,
 "nbformat_minor": 2
}
